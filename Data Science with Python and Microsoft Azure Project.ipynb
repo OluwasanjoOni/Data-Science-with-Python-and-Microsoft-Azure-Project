{
 "cells": [
  {
   "cell_type": "markdown",
   "id": "e9c4cb14",
   "metadata": {},
   "source": [
    "# Data Exploration of a Retail Store called Cardio Good Fitness"
   ]
  },
  {
   "cell_type": "markdown",
   "id": "1487267a",
   "metadata": {},
   "source": [
    "#\n",
    "QUESTION:\n",
    "Explore the dataset to identify differences between the customers of each product. You can also explore relationships \n",
    "between the different attributes of the customers. You can approach it from any other line of questioning that you feel \n",
    "could be relevant for the business. The idea is to get you comfortable working in Python.\n",
    "\n",
    "You are expected to do the following :\n",
    "\n",
    "1. Come up with a customer profile (characteristics of a customer) of the different products\n",
    "2. Perform univariate and multivariate analyses\n",
    "3. Generate a set of insights and recommendations that will help the company in targeting new customers.\n"
   ]
  },
  {
   "cell_type": "code",
   "execution_count": 3,
   "id": "8434b84a",
   "metadata": {},
   "outputs": [],
   "source": [
    "import pandas as pd\n",
    "import matplotlib.pyplot as plt\n",
    "import seaborn as sns"
   ]
  },
  {
   "cell_type": "code",
   "execution_count": 5,
   "id": "743eeff6",
   "metadata": {},
   "outputs": [
    {
     "data": {
      "text/html": [
       "<div>\n",
       "<style scoped>\n",
       "    .dataframe tbody tr th:only-of-type {\n",
       "        vertical-align: middle;\n",
       "    }\n",
       "\n",
       "    .dataframe tbody tr th {\n",
       "        vertical-align: top;\n",
       "    }\n",
       "\n",
       "    .dataframe thead th {\n",
       "        text-align: right;\n",
       "    }\n",
       "</style>\n",
       "<table border=\"1\" class=\"dataframe\">\n",
       "  <thead>\n",
       "    <tr style=\"text-align: right;\">\n",
       "      <th></th>\n",
       "      <th>Product</th>\n",
       "      <th>Age</th>\n",
       "      <th>Gender</th>\n",
       "      <th>Education</th>\n",
       "      <th>MaritalStatus</th>\n",
       "      <th>Usage</th>\n",
       "      <th>Fitness</th>\n",
       "      <th>Income</th>\n",
       "      <th>Miles</th>\n",
       "    </tr>\n",
       "  </thead>\n",
       "  <tbody>\n",
       "    <tr>\n",
       "      <th>0</th>\n",
       "      <td>TM195</td>\n",
       "      <td>18</td>\n",
       "      <td>Male</td>\n",
       "      <td>14</td>\n",
       "      <td>Single</td>\n",
       "      <td>3</td>\n",
       "      <td>4</td>\n",
       "      <td>29562</td>\n",
       "      <td>112</td>\n",
       "    </tr>\n",
       "    <tr>\n",
       "      <th>1</th>\n",
       "      <td>TM195</td>\n",
       "      <td>19</td>\n",
       "      <td>Male</td>\n",
       "      <td>15</td>\n",
       "      <td>Single</td>\n",
       "      <td>2</td>\n",
       "      <td>3</td>\n",
       "      <td>31836</td>\n",
       "      <td>75</td>\n",
       "    </tr>\n",
       "    <tr>\n",
       "      <th>2</th>\n",
       "      <td>TM195</td>\n",
       "      <td>19</td>\n",
       "      <td>Female</td>\n",
       "      <td>14</td>\n",
       "      <td>Partnered</td>\n",
       "      <td>4</td>\n",
       "      <td>3</td>\n",
       "      <td>30699</td>\n",
       "      <td>66</td>\n",
       "    </tr>\n",
       "    <tr>\n",
       "      <th>3</th>\n",
       "      <td>TM195</td>\n",
       "      <td>19</td>\n",
       "      <td>Male</td>\n",
       "      <td>12</td>\n",
       "      <td>Single</td>\n",
       "      <td>3</td>\n",
       "      <td>3</td>\n",
       "      <td>32973</td>\n",
       "      <td>85</td>\n",
       "    </tr>\n",
       "    <tr>\n",
       "      <th>4</th>\n",
       "      <td>TM195</td>\n",
       "      <td>20</td>\n",
       "      <td>Male</td>\n",
       "      <td>13</td>\n",
       "      <td>Partnered</td>\n",
       "      <td>4</td>\n",
       "      <td>2</td>\n",
       "      <td>35247</td>\n",
       "      <td>47</td>\n",
       "    </tr>\n",
       "    <tr>\n",
       "      <th>...</th>\n",
       "      <td>...</td>\n",
       "      <td>...</td>\n",
       "      <td>...</td>\n",
       "      <td>...</td>\n",
       "      <td>...</td>\n",
       "      <td>...</td>\n",
       "      <td>...</td>\n",
       "      <td>...</td>\n",
       "      <td>...</td>\n",
       "    </tr>\n",
       "    <tr>\n",
       "      <th>175</th>\n",
       "      <td>TM798</td>\n",
       "      <td>40</td>\n",
       "      <td>Male</td>\n",
       "      <td>21</td>\n",
       "      <td>Single</td>\n",
       "      <td>6</td>\n",
       "      <td>5</td>\n",
       "      <td>83416</td>\n",
       "      <td>200</td>\n",
       "    </tr>\n",
       "    <tr>\n",
       "      <th>176</th>\n",
       "      <td>TM798</td>\n",
       "      <td>42</td>\n",
       "      <td>Male</td>\n",
       "      <td>18</td>\n",
       "      <td>Single</td>\n",
       "      <td>5</td>\n",
       "      <td>4</td>\n",
       "      <td>89641</td>\n",
       "      <td>200</td>\n",
       "    </tr>\n",
       "    <tr>\n",
       "      <th>177</th>\n",
       "      <td>TM798</td>\n",
       "      <td>45</td>\n",
       "      <td>Male</td>\n",
       "      <td>16</td>\n",
       "      <td>Single</td>\n",
       "      <td>5</td>\n",
       "      <td>5</td>\n",
       "      <td>90886</td>\n",
       "      <td>160</td>\n",
       "    </tr>\n",
       "    <tr>\n",
       "      <th>178</th>\n",
       "      <td>TM798</td>\n",
       "      <td>47</td>\n",
       "      <td>Male</td>\n",
       "      <td>18</td>\n",
       "      <td>Partnered</td>\n",
       "      <td>4</td>\n",
       "      <td>5</td>\n",
       "      <td>104581</td>\n",
       "      <td>120</td>\n",
       "    </tr>\n",
       "    <tr>\n",
       "      <th>179</th>\n",
       "      <td>TM798</td>\n",
       "      <td>48</td>\n",
       "      <td>Male</td>\n",
       "      <td>18</td>\n",
       "      <td>Partnered</td>\n",
       "      <td>4</td>\n",
       "      <td>5</td>\n",
       "      <td>95508</td>\n",
       "      <td>180</td>\n",
       "    </tr>\n",
       "  </tbody>\n",
       "</table>\n",
       "<p>180 rows × 9 columns</p>\n",
       "</div>"
      ],
      "text/plain": [
       "    Product  Age  Gender  Education MaritalStatus  Usage  Fitness  Income  \\\n",
       "0     TM195   18    Male         14        Single      3        4   29562   \n",
       "1     TM195   19    Male         15        Single      2        3   31836   \n",
       "2     TM195   19  Female         14     Partnered      4        3   30699   \n",
       "3     TM195   19    Male         12        Single      3        3   32973   \n",
       "4     TM195   20    Male         13     Partnered      4        2   35247   \n",
       "..      ...  ...     ...        ...           ...    ...      ...     ...   \n",
       "175   TM798   40    Male         21        Single      6        5   83416   \n",
       "176   TM798   42    Male         18        Single      5        4   89641   \n",
       "177   TM798   45    Male         16        Single      5        5   90886   \n",
       "178   TM798   47    Male         18     Partnered      4        5  104581   \n",
       "179   TM798   48    Male         18     Partnered      4        5   95508   \n",
       "\n",
       "     Miles  \n",
       "0      112  \n",
       "1       75  \n",
       "2       66  \n",
       "3       85  \n",
       "4       47  \n",
       "..     ...  \n",
       "175    200  \n",
       "176    200  \n",
       "177    160  \n",
       "178    120  \n",
       "179    180  \n",
       "\n",
       "[180 rows x 9 columns]"
      ]
     },
     "execution_count": 5,
     "metadata": {},
     "output_type": "execute_result"
    }
   ],
   "source": [
    "cardio = pd.read_csv(r\"C:\\Users\\Admin\\Desktop\\CardioGoodFitness.csv\")    # To load the data\n",
    "cardio"
   ]
  },
  {
   "cell_type": "code",
   "execution_count": 25,
   "id": "7a71e83a",
   "metadata": {},
   "outputs": [
    {
     "data": {
      "text/html": [
       "<div>\n",
       "<style scoped>\n",
       "    .dataframe tbody tr th:only-of-type {\n",
       "        vertical-align: middle;\n",
       "    }\n",
       "\n",
       "    .dataframe tbody tr th {\n",
       "        vertical-align: top;\n",
       "    }\n",
       "\n",
       "    .dataframe thead th {\n",
       "        text-align: right;\n",
       "    }\n",
       "</style>\n",
       "<table border=\"1\" class=\"dataframe\">\n",
       "  <thead>\n",
       "    <tr style=\"text-align: right;\">\n",
       "      <th></th>\n",
       "      <th>Product</th>\n",
       "      <th>Age</th>\n",
       "      <th>Gender</th>\n",
       "      <th>Education</th>\n",
       "      <th>MaritalStatus</th>\n",
       "      <th>Usage</th>\n",
       "      <th>Fitness</th>\n",
       "      <th>Income</th>\n",
       "      <th>Miles</th>\n",
       "    </tr>\n",
       "  </thead>\n",
       "  <tbody>\n",
       "    <tr>\n",
       "      <th>0</th>\n",
       "      <td>TM195</td>\n",
       "      <td>18</td>\n",
       "      <td>Male</td>\n",
       "      <td>14</td>\n",
       "      <td>Single</td>\n",
       "      <td>3</td>\n",
       "      <td>4</td>\n",
       "      <td>29562</td>\n",
       "      <td>112</td>\n",
       "    </tr>\n",
       "    <tr>\n",
       "      <th>1</th>\n",
       "      <td>TM195</td>\n",
       "      <td>19</td>\n",
       "      <td>Male</td>\n",
       "      <td>15</td>\n",
       "      <td>Single</td>\n",
       "      <td>2</td>\n",
       "      <td>3</td>\n",
       "      <td>31836</td>\n",
       "      <td>75</td>\n",
       "    </tr>\n",
       "    <tr>\n",
       "      <th>2</th>\n",
       "      <td>TM195</td>\n",
       "      <td>19</td>\n",
       "      <td>Female</td>\n",
       "      <td>14</td>\n",
       "      <td>Partnered</td>\n",
       "      <td>4</td>\n",
       "      <td>3</td>\n",
       "      <td>30699</td>\n",
       "      <td>66</td>\n",
       "    </tr>\n",
       "    <tr>\n",
       "      <th>3</th>\n",
       "      <td>TM195</td>\n",
       "      <td>19</td>\n",
       "      <td>Male</td>\n",
       "      <td>12</td>\n",
       "      <td>Single</td>\n",
       "      <td>3</td>\n",
       "      <td>3</td>\n",
       "      <td>32973</td>\n",
       "      <td>85</td>\n",
       "    </tr>\n",
       "    <tr>\n",
       "      <th>4</th>\n",
       "      <td>TM195</td>\n",
       "      <td>20</td>\n",
       "      <td>Male</td>\n",
       "      <td>13</td>\n",
       "      <td>Partnered</td>\n",
       "      <td>4</td>\n",
       "      <td>2</td>\n",
       "      <td>35247</td>\n",
       "      <td>47</td>\n",
       "    </tr>\n",
       "    <tr>\n",
       "      <th>5</th>\n",
       "      <td>TM195</td>\n",
       "      <td>20</td>\n",
       "      <td>Female</td>\n",
       "      <td>14</td>\n",
       "      <td>Partnered</td>\n",
       "      <td>3</td>\n",
       "      <td>3</td>\n",
       "      <td>32973</td>\n",
       "      <td>66</td>\n",
       "    </tr>\n",
       "    <tr>\n",
       "      <th>6</th>\n",
       "      <td>TM195</td>\n",
       "      <td>21</td>\n",
       "      <td>Female</td>\n",
       "      <td>14</td>\n",
       "      <td>Partnered</td>\n",
       "      <td>3</td>\n",
       "      <td>3</td>\n",
       "      <td>35247</td>\n",
       "      <td>75</td>\n",
       "    </tr>\n",
       "    <tr>\n",
       "      <th>7</th>\n",
       "      <td>TM195</td>\n",
       "      <td>21</td>\n",
       "      <td>Male</td>\n",
       "      <td>13</td>\n",
       "      <td>Single</td>\n",
       "      <td>3</td>\n",
       "      <td>3</td>\n",
       "      <td>32973</td>\n",
       "      <td>85</td>\n",
       "    </tr>\n",
       "    <tr>\n",
       "      <th>8</th>\n",
       "      <td>TM195</td>\n",
       "      <td>21</td>\n",
       "      <td>Male</td>\n",
       "      <td>15</td>\n",
       "      <td>Single</td>\n",
       "      <td>5</td>\n",
       "      <td>4</td>\n",
       "      <td>35247</td>\n",
       "      <td>141</td>\n",
       "    </tr>\n",
       "    <tr>\n",
       "      <th>9</th>\n",
       "      <td>TM195</td>\n",
       "      <td>21</td>\n",
       "      <td>Female</td>\n",
       "      <td>15</td>\n",
       "      <td>Partnered</td>\n",
       "      <td>2</td>\n",
       "      <td>3</td>\n",
       "      <td>37521</td>\n",
       "      <td>85</td>\n",
       "    </tr>\n",
       "  </tbody>\n",
       "</table>\n",
       "</div>"
      ],
      "text/plain": [
       "  Product  Age  Gender  Education MaritalStatus  Usage  Fitness  Income  Miles\n",
       "0   TM195   18    Male         14        Single      3        4   29562    112\n",
       "1   TM195   19    Male         15        Single      2        3   31836     75\n",
       "2   TM195   19  Female         14     Partnered      4        3   30699     66\n",
       "3   TM195   19    Male         12        Single      3        3   32973     85\n",
       "4   TM195   20    Male         13     Partnered      4        2   35247     47\n",
       "5   TM195   20  Female         14     Partnered      3        3   32973     66\n",
       "6   TM195   21  Female         14     Partnered      3        3   35247     75\n",
       "7   TM195   21    Male         13        Single      3        3   32973     85\n",
       "8   TM195   21    Male         15        Single      5        4   35247    141\n",
       "9   TM195   21  Female         15     Partnered      2        3   37521     85"
      ]
     },
     "execution_count": 25,
     "metadata": {},
     "output_type": "execute_result"
    }
   ],
   "source": [
    "cardio.head(10)    # To see the first 10 rows"
   ]
  },
  {
   "cell_type": "code",
   "execution_count": 26,
   "id": "afc3af3d",
   "metadata": {},
   "outputs": [
    {
     "data": {
      "text/html": [
       "<div>\n",
       "<style scoped>\n",
       "    .dataframe tbody tr th:only-of-type {\n",
       "        vertical-align: middle;\n",
       "    }\n",
       "\n",
       "    .dataframe tbody tr th {\n",
       "        vertical-align: top;\n",
       "    }\n",
       "\n",
       "    .dataframe thead th {\n",
       "        text-align: right;\n",
       "    }\n",
       "</style>\n",
       "<table border=\"1\" class=\"dataframe\">\n",
       "  <thead>\n",
       "    <tr style=\"text-align: right;\">\n",
       "      <th></th>\n",
       "      <th>Product</th>\n",
       "      <th>Age</th>\n",
       "      <th>Gender</th>\n",
       "      <th>Education</th>\n",
       "      <th>MaritalStatus</th>\n",
       "      <th>Usage</th>\n",
       "      <th>Fitness</th>\n",
       "      <th>Income</th>\n",
       "      <th>Miles</th>\n",
       "    </tr>\n",
       "  </thead>\n",
       "  <tbody>\n",
       "    <tr>\n",
       "      <th>16</th>\n",
       "      <td>TM195</td>\n",
       "      <td>23</td>\n",
       "      <td>Female</td>\n",
       "      <td>14</td>\n",
       "      <td>Single</td>\n",
       "      <td>2</td>\n",
       "      <td>3</td>\n",
       "      <td>34110</td>\n",
       "      <td>103</td>\n",
       "    </tr>\n",
       "    <tr>\n",
       "      <th>110</th>\n",
       "      <td>TM498</td>\n",
       "      <td>26</td>\n",
       "      <td>Male</td>\n",
       "      <td>16</td>\n",
       "      <td>Single</td>\n",
       "      <td>4</td>\n",
       "      <td>3</td>\n",
       "      <td>51165</td>\n",
       "      <td>106</td>\n",
       "    </tr>\n",
       "    <tr>\n",
       "      <th>111</th>\n",
       "      <td>TM498</td>\n",
       "      <td>27</td>\n",
       "      <td>Male</td>\n",
       "      <td>14</td>\n",
       "      <td>Single</td>\n",
       "      <td>4</td>\n",
       "      <td>2</td>\n",
       "      <td>45480</td>\n",
       "      <td>53</td>\n",
       "    </tr>\n",
       "    <tr>\n",
       "      <th>95</th>\n",
       "      <td>TM498</td>\n",
       "      <td>24</td>\n",
       "      <td>Male</td>\n",
       "      <td>14</td>\n",
       "      <td>Single</td>\n",
       "      <td>3</td>\n",
       "      <td>4</td>\n",
       "      <td>48891</td>\n",
       "      <td>106</td>\n",
       "    </tr>\n",
       "    <tr>\n",
       "      <th>13</th>\n",
       "      <td>TM195</td>\n",
       "      <td>22</td>\n",
       "      <td>Female</td>\n",
       "      <td>14</td>\n",
       "      <td>Single</td>\n",
       "      <td>3</td>\n",
       "      <td>3</td>\n",
       "      <td>35247</td>\n",
       "      <td>75</td>\n",
       "    </tr>\n",
       "    <tr>\n",
       "      <th>51</th>\n",
       "      <td>TM195</td>\n",
       "      <td>29</td>\n",
       "      <td>Female</td>\n",
       "      <td>14</td>\n",
       "      <td>Partnered</td>\n",
       "      <td>2</td>\n",
       "      <td>2</td>\n",
       "      <td>46617</td>\n",
       "      <td>38</td>\n",
       "    </tr>\n",
       "    <tr>\n",
       "      <th>122</th>\n",
       "      <td>TM498</td>\n",
       "      <td>33</td>\n",
       "      <td>Male</td>\n",
       "      <td>16</td>\n",
       "      <td>Partnered</td>\n",
       "      <td>3</td>\n",
       "      <td>3</td>\n",
       "      <td>51165</td>\n",
       "      <td>95</td>\n",
       "    </tr>\n",
       "    <tr>\n",
       "      <th>96</th>\n",
       "      <td>TM498</td>\n",
       "      <td>24</td>\n",
       "      <td>Female</td>\n",
       "      <td>16</td>\n",
       "      <td>Single</td>\n",
       "      <td>3</td>\n",
       "      <td>3</td>\n",
       "      <td>50028</td>\n",
       "      <td>106</td>\n",
       "    </tr>\n",
       "    <tr>\n",
       "      <th>149</th>\n",
       "      <td>TM798</td>\n",
       "      <td>24</td>\n",
       "      <td>Male</td>\n",
       "      <td>16</td>\n",
       "      <td>Single</td>\n",
       "      <td>5</td>\n",
       "      <td>5</td>\n",
       "      <td>49801</td>\n",
       "      <td>160</td>\n",
       "    </tr>\n",
       "    <tr>\n",
       "      <th>87</th>\n",
       "      <td>TM498</td>\n",
       "      <td>23</td>\n",
       "      <td>Male</td>\n",
       "      <td>14</td>\n",
       "      <td>Partnered</td>\n",
       "      <td>3</td>\n",
       "      <td>3</td>\n",
       "      <td>36384</td>\n",
       "      <td>95</td>\n",
       "    </tr>\n",
       "  </tbody>\n",
       "</table>\n",
       "</div>"
      ],
      "text/plain": [
       "    Product  Age  Gender  Education MaritalStatus  Usage  Fitness  Income  \\\n",
       "16    TM195   23  Female         14        Single      2        3   34110   \n",
       "110   TM498   26    Male         16        Single      4        3   51165   \n",
       "111   TM498   27    Male         14        Single      4        2   45480   \n",
       "95    TM498   24    Male         14        Single      3        4   48891   \n",
       "13    TM195   22  Female         14        Single      3        3   35247   \n",
       "51    TM195   29  Female         14     Partnered      2        2   46617   \n",
       "122   TM498   33    Male         16     Partnered      3        3   51165   \n",
       "96    TM498   24  Female         16        Single      3        3   50028   \n",
       "149   TM798   24    Male         16        Single      5        5   49801   \n",
       "87    TM498   23    Male         14     Partnered      3        3   36384   \n",
       "\n",
       "     Miles  \n",
       "16     103  \n",
       "110    106  \n",
       "111     53  \n",
       "95     106  \n",
       "13      75  \n",
       "51      38  \n",
       "122     95  \n",
       "96     106  \n",
       "149    160  \n",
       "87      95  "
      ]
     },
     "execution_count": 26,
     "metadata": {},
     "output_type": "execute_result"
    }
   ],
   "source": [
    "cardio.sample(10)  # To ramdonly check any 10 rows in the dataset"
   ]
  },
  {
   "cell_type": "code",
   "execution_count": 11,
   "id": "744c727d",
   "metadata": {},
   "outputs": [
    {
     "data": {
      "text/plain": [
       "Product          0\n",
       "Age              0\n",
       "Gender           0\n",
       "Education        0\n",
       "MaritalStatus    0\n",
       "Usage            0\n",
       "Fitness          0\n",
       "Income           0\n",
       "Miles            0\n",
       "dtype: int64"
      ]
     },
     "execution_count": 11,
     "metadata": {},
     "output_type": "execute_result"
    }
   ],
   "source": [
    "cardio.isna().sum()               # To see the number of missing values in the data"
   ]
  },
  {
   "cell_type": "markdown",
   "id": "e0369d95",
   "metadata": {},
   "source": [
    "# - There are no missing values"
   ]
  },
  {
   "cell_type": "code",
   "execution_count": 12,
   "id": "9cc70555",
   "metadata": {},
   "outputs": [
    {
     "name": "stdout",
     "output_type": "stream",
     "text": [
      "<class 'pandas.core.frame.DataFrame'>\n",
      "RangeIndex: 180 entries, 0 to 179\n",
      "Data columns (total 9 columns):\n",
      " #   Column         Non-Null Count  Dtype \n",
      "---  ------         --------------  ----- \n",
      " 0   Product        180 non-null    object\n",
      " 1   Age            180 non-null    int64 \n",
      " 2   Gender         180 non-null    object\n",
      " 3   Education      180 non-null    int64 \n",
      " 4   MaritalStatus  180 non-null    object\n",
      " 5   Usage          180 non-null    int64 \n",
      " 6   Fitness        180 non-null    int64 \n",
      " 7   Income         180 non-null    int64 \n",
      " 8   Miles          180 non-null    int64 \n",
      "dtypes: int64(6), object(3)\n",
      "memory usage: 12.8+ KB\n"
     ]
    }
   ],
   "source": [
    "cardio.info()   # To find the data types"
   ]
  },
  {
   "cell_type": "markdown",
   "id": "37f62a8c",
   "metadata": {},
   "source": [
    "#  \n",
    "- There are 2 data types (numeric - integers and category - objects)\n",
    "- There are 3 columns with categorical variables (Product, Gender and Maritalstatus)\n",
    "- The rest (6) are numerical\n",
    "- There is no column with floating, missing or empty values\n",
    "- The dataset occupies memory space of 13KB by approximation\n",
    "- There are 9 columns and 180 rows in the dataset"
   ]
  },
  {
   "cell_type": "code",
   "execution_count": 21,
   "id": "f3a064d1",
   "metadata": {},
   "outputs": [
    {
     "data": {
      "text/plain": [
       "0"
      ]
     },
     "execution_count": 21,
     "metadata": {},
     "output_type": "execute_result"
    }
   ],
   "source": [
    "cardio.duplicated().sum()     # To check the duplicated rows"
   ]
  },
  {
   "cell_type": "markdown",
   "id": "a57e1da3",
   "metadata": {},
   "source": [
    "# - There is no duplication"
   ]
  },
  {
   "cell_type": "code",
   "execution_count": 6,
   "id": "1daa74e1",
   "metadata": {},
   "outputs": [
    {
     "data": {
      "text/plain": [
       "(180, 9)"
      ]
     },
     "execution_count": 6,
     "metadata": {},
     "output_type": "execute_result"
    }
   ],
   "source": [
    "cardio.shape   # To find the dimensions of the data"
   ]
  },
  {
   "cell_type": "markdown",
   "id": "5a834d91",
   "metadata": {},
   "source": [
    " #  - There are 180 rows and 9 columns in this dataset"
   ]
  },
  {
   "cell_type": "code",
   "execution_count": 11,
   "id": "db18dc16",
   "metadata": {},
   "outputs": [
    {
     "data": {
      "text/html": [
       "<div>\n",
       "<style scoped>\n",
       "    .dataframe tbody tr th:only-of-type {\n",
       "        vertical-align: middle;\n",
       "    }\n",
       "\n",
       "    .dataframe tbody tr th {\n",
       "        vertical-align: top;\n",
       "    }\n",
       "\n",
       "    .dataframe thead th {\n",
       "        text-align: right;\n",
       "    }\n",
       "</style>\n",
       "<table border=\"1\" class=\"dataframe\">\n",
       "  <thead>\n",
       "    <tr style=\"text-align: right;\">\n",
       "      <th></th>\n",
       "      <th>Product</th>\n",
       "      <th>Age</th>\n",
       "      <th>Gender</th>\n",
       "      <th>Education</th>\n",
       "      <th>MaritalStatus</th>\n",
       "      <th>Usage</th>\n",
       "      <th>Fitness</th>\n",
       "      <th>Income</th>\n",
       "      <th>Miles</th>\n",
       "    </tr>\n",
       "  </thead>\n",
       "  <tbody>\n",
       "    <tr>\n",
       "      <th>count</th>\n",
       "      <td>180</td>\n",
       "      <td>180.000000</td>\n",
       "      <td>180</td>\n",
       "      <td>180.000000</td>\n",
       "      <td>180</td>\n",
       "      <td>180.000000</td>\n",
       "      <td>180.000000</td>\n",
       "      <td>180.000000</td>\n",
       "      <td>180.000000</td>\n",
       "    </tr>\n",
       "    <tr>\n",
       "      <th>unique</th>\n",
       "      <td>3</td>\n",
       "      <td>NaN</td>\n",
       "      <td>2</td>\n",
       "      <td>NaN</td>\n",
       "      <td>2</td>\n",
       "      <td>NaN</td>\n",
       "      <td>NaN</td>\n",
       "      <td>NaN</td>\n",
       "      <td>NaN</td>\n",
       "    </tr>\n",
       "    <tr>\n",
       "      <th>top</th>\n",
       "      <td>TM195</td>\n",
       "      <td>NaN</td>\n",
       "      <td>Male</td>\n",
       "      <td>NaN</td>\n",
       "      <td>Partnered</td>\n",
       "      <td>NaN</td>\n",
       "      <td>NaN</td>\n",
       "      <td>NaN</td>\n",
       "      <td>NaN</td>\n",
       "    </tr>\n",
       "    <tr>\n",
       "      <th>freq</th>\n",
       "      <td>80</td>\n",
       "      <td>NaN</td>\n",
       "      <td>104</td>\n",
       "      <td>NaN</td>\n",
       "      <td>107</td>\n",
       "      <td>NaN</td>\n",
       "      <td>NaN</td>\n",
       "      <td>NaN</td>\n",
       "      <td>NaN</td>\n",
       "    </tr>\n",
       "    <tr>\n",
       "      <th>mean</th>\n",
       "      <td>NaN</td>\n",
       "      <td>28.788889</td>\n",
       "      <td>NaN</td>\n",
       "      <td>15.572222</td>\n",
       "      <td>NaN</td>\n",
       "      <td>3.455556</td>\n",
       "      <td>3.311111</td>\n",
       "      <td>53719.577778</td>\n",
       "      <td>103.194444</td>\n",
       "    </tr>\n",
       "    <tr>\n",
       "      <th>std</th>\n",
       "      <td>NaN</td>\n",
       "      <td>6.943498</td>\n",
       "      <td>NaN</td>\n",
       "      <td>1.617055</td>\n",
       "      <td>NaN</td>\n",
       "      <td>1.084797</td>\n",
       "      <td>0.958869</td>\n",
       "      <td>16506.684226</td>\n",
       "      <td>51.863605</td>\n",
       "    </tr>\n",
       "    <tr>\n",
       "      <th>min</th>\n",
       "      <td>NaN</td>\n",
       "      <td>18.000000</td>\n",
       "      <td>NaN</td>\n",
       "      <td>12.000000</td>\n",
       "      <td>NaN</td>\n",
       "      <td>2.000000</td>\n",
       "      <td>1.000000</td>\n",
       "      <td>29562.000000</td>\n",
       "      <td>21.000000</td>\n",
       "    </tr>\n",
       "    <tr>\n",
       "      <th>25%</th>\n",
       "      <td>NaN</td>\n",
       "      <td>24.000000</td>\n",
       "      <td>NaN</td>\n",
       "      <td>14.000000</td>\n",
       "      <td>NaN</td>\n",
       "      <td>3.000000</td>\n",
       "      <td>3.000000</td>\n",
       "      <td>44058.750000</td>\n",
       "      <td>66.000000</td>\n",
       "    </tr>\n",
       "    <tr>\n",
       "      <th>50%</th>\n",
       "      <td>NaN</td>\n",
       "      <td>26.000000</td>\n",
       "      <td>NaN</td>\n",
       "      <td>16.000000</td>\n",
       "      <td>NaN</td>\n",
       "      <td>3.000000</td>\n",
       "      <td>3.000000</td>\n",
       "      <td>50596.500000</td>\n",
       "      <td>94.000000</td>\n",
       "    </tr>\n",
       "    <tr>\n",
       "      <th>75%</th>\n",
       "      <td>NaN</td>\n",
       "      <td>33.000000</td>\n",
       "      <td>NaN</td>\n",
       "      <td>16.000000</td>\n",
       "      <td>NaN</td>\n",
       "      <td>4.000000</td>\n",
       "      <td>4.000000</td>\n",
       "      <td>58668.000000</td>\n",
       "      <td>114.750000</td>\n",
       "    </tr>\n",
       "    <tr>\n",
       "      <th>max</th>\n",
       "      <td>NaN</td>\n",
       "      <td>50.000000</td>\n",
       "      <td>NaN</td>\n",
       "      <td>21.000000</td>\n",
       "      <td>NaN</td>\n",
       "      <td>7.000000</td>\n",
       "      <td>5.000000</td>\n",
       "      <td>104581.000000</td>\n",
       "      <td>360.000000</td>\n",
       "    </tr>\n",
       "  </tbody>\n",
       "</table>\n",
       "</div>"
      ],
      "text/plain": [
       "       Product         Age Gender   Education MaritalStatus       Usage  \\\n",
       "count      180  180.000000    180  180.000000           180  180.000000   \n",
       "unique       3         NaN      2         NaN             2         NaN   \n",
       "top      TM195         NaN   Male         NaN     Partnered         NaN   \n",
       "freq        80         NaN    104         NaN           107         NaN   \n",
       "mean       NaN   28.788889    NaN   15.572222           NaN    3.455556   \n",
       "std        NaN    6.943498    NaN    1.617055           NaN    1.084797   \n",
       "min        NaN   18.000000    NaN   12.000000           NaN    2.000000   \n",
       "25%        NaN   24.000000    NaN   14.000000           NaN    3.000000   \n",
       "50%        NaN   26.000000    NaN   16.000000           NaN    3.000000   \n",
       "75%        NaN   33.000000    NaN   16.000000           NaN    4.000000   \n",
       "max        NaN   50.000000    NaN   21.000000           NaN    7.000000   \n",
       "\n",
       "           Fitness         Income       Miles  \n",
       "count   180.000000     180.000000  180.000000  \n",
       "unique         NaN            NaN         NaN  \n",
       "top            NaN            NaN         NaN  \n",
       "freq           NaN            NaN         NaN  \n",
       "mean      3.311111   53719.577778  103.194444  \n",
       "std       0.958869   16506.684226   51.863605  \n",
       "min       1.000000   29562.000000   21.000000  \n",
       "25%       3.000000   44058.750000   66.000000  \n",
       "50%       3.000000   50596.500000   94.000000  \n",
       "75%       4.000000   58668.000000  114.750000  \n",
       "max       5.000000  104581.000000  360.000000  "
      ]
     },
     "execution_count": 11,
     "metadata": {},
     "output_type": "execute_result"
    }
   ],
   "source": [
    "cardio.describe(include =\"all\")  # To find the descriptive statistics"
   ]
  },
  {
   "cell_type": "markdown",
   "id": "00265522",
   "metadata": {},
   "source": [
    "# Insights from the descriptive statistics\n",
    "- There are 3 unique/different products in the data but TM195 is the top product.\n",
    "- From the 180 units of the 3 products sold, the top product is TM195 which occurs 80 times. Their customers have only 2 genders\n",
    "(Male and Female) but the male customers patronized more (104) than the female. Out of the 180 customers who bought these 3 \n",
    "products, 107 are partnered while others are single.\n",
    "- The customer with the highest age is 50 years while the one with most years in education is 21 years. The user with the most\n",
    "use-case is 7 times every week while the highest fitness score is 5. This highest income earner has 104,581 and\n",
    "the highest miles covered is 360 when running.\n",
    "- The customer with the least (minimum) age is 18 years while the least years in education is 12 years. The customer who least\n",
    "uses their product uses it twice (2) every week. \n",
    "While the customer with the least fitness score is 1 and least earning is 29,562, the least miles covered while running is 21.\n",
    "- 75% of these customers are aged less or equal to 33 years which is the upper quartile. The remaining 25% are above 33 years.\n",
    "75% of them have 16 years or less in education and earn 58,668 income or less. 75% of them also have the fitness score of 4 or\n",
    "less and use the product 4 (or less) times every week. 114.75 miles or less  are also covered by 75% of them when running.\n",
    "- The average age is 28.8 years with average education of 15.6 years in education. The average usgae is 3.5 while the fitness \n",
    "score has average of 3.3. Ther average income is 53,720 with 103,19 as the average miles covered.\n",
    "- 50% of these customers are 26 years of age while 16 years in education. 50% of them also use the product 3 times per week \n",
    "and have 3 as their fitness score while 50% income is 50,597 and lastly, 50% of these customers cover 94 miles when running.\n",
    "- 25% percentile which means 25% of the customers have less or equal to 24 years of age. 25% of them also 14 years or less \n",
    "in education. 25% of them earn less or equal to 44,059. 66 miles or less are covered by 25% of them when running while\n",
    "their fitness score and number of product usage is 3 or less for 25% of them."
   ]
  },
  {
   "cell_type": "code",
   "execution_count": 9,
   "id": "a56f4931",
   "metadata": {},
   "outputs": [
    {
     "data": {
      "text/plain": [
       "array(['Single', 'Partnered'], dtype=object)"
      ]
     },
     "execution_count": 9,
     "metadata": {},
     "output_type": "execute_result"
    }
   ],
   "source": [
    "cardio[\"MaritalStatus\"].unique() # To know the unique marital status"
   ]
  },
  {
   "cell_type": "markdown",
   "id": "e2b7a7f4",
   "metadata": {},
   "source": [
    "# \n",
    "- There are 2 marital status; Single and Partnered."
   ]
  },
  {
   "cell_type": "code",
   "execution_count": 34,
   "id": "1ed6bd11",
   "metadata": {},
   "outputs": [
    {
     "data": {
      "text/plain": [
       "array(['TM195', 'TM498', 'TM798'], dtype=object)"
      ]
     },
     "execution_count": 34,
     "metadata": {},
     "output_type": "execute_result"
    }
   ],
   "source": [
    "cardio[\"Product\"].unique()   # To check the unique (different) products in the dataset"
   ]
  },
  {
   "cell_type": "markdown",
   "id": "66778cf6",
   "metadata": {},
   "source": [
    "# \n",
    "- There are 3 products in the dataset (TM195, TM498, and TM798)"
   ]
  },
  {
   "cell_type": "code",
   "execution_count": 74,
   "id": "4e6c83e3",
   "metadata": {},
   "outputs": [
    {
     "data": {
      "text/plain": [
       "TM195    80\n",
       "TM498    60\n",
       "TM798    40\n",
       "Name: Product, dtype: int64"
      ]
     },
     "execution_count": 74,
     "metadata": {},
     "output_type": "execute_result"
    }
   ],
   "source": [
    "cardio[\"Product\"].value_counts()    # To know how many times each of the products was sold"
   ]
  },
  {
   "cell_type": "markdown",
   "id": "c037e2ca",
   "metadata": {},
   "source": [
    "# Insights\n",
    "- There 3 products; 80 units of TM195, 60 units of TM498, and 40 units of TM798 were sold \n",
    "- TM195 has the highest sales\n",
    "- TM798 has the lowest sales"
   ]
  },
  {
   "cell_type": "markdown",
   "id": "eb12f1c2",
   "metadata": {},
   "source": [
    "#                                      UNIVARIATE PLOTS"
   ]
  },
  {
   "cell_type": "code",
   "execution_count": 22,
   "id": "ab1dc5b3",
   "metadata": {},
   "outputs": [
    {
     "data": {
      "image/png": "[encoded data removed]",
      "text/plain": [
       "<Figure size 432x288 with 1 Axes>"
      ]
     },
     "metadata": {
      "needs_background": "light"
     },
     "output_type": "display_data"
    }
   ],
   "source": [
    "sns.histplot(data = cardio, x = \"Product\");\n",
    "plt.title(\"Histogram Plot of the Product\")\n",
    "plt.xlabel(\"Product\")\n",
    "plt.ylabel(\"Frequency\")\n",
    "plt.xticks(rotation = 90)\n",
    "plt.show()"
   ]
  },
  {
   "cell_type": "markdown",
   "id": "1f7986b3",
   "metadata": {},
   "source": [
    "# Histoplot of the Product:\n",
    "Insights;\n",
    "- TM195 has the highest frequency of 80, which implies it sells most.\n",
    "- TM498 has frequency of 60 which is next to the highest. This product also sells more after TM195.\n",
    "- TM798 has the least frequecy of 40. This product has the least sales.\n",
    "\n",
    "Recommendation:\n",
    "\n",
    "TM195 forms more than 44% of the total sales while both TM195 and TM498 form 78% of the total sales; hence\n",
    "- The retail store should make more inventment (200% investment recommended) on TM195 to ensure the product is always available in the store\n",
    "- Investment on TM498 should be increased by 50%\n",
    "- Investment on TM798 should be the same or reduced by 20%\n",
    "- More advertisement on both TM195 and TM498 to increase sales\n",
    "- Awareness of TM798 should also be intensified. Promo should be encouraged on this product like, get a reduced price when \n",
    "  you buy either TM195 or TM498 with TM798.\n"
   ]
  },
  {
   "cell_type": "code",
   "execution_count": 17,
   "id": "1bb91856",
   "metadata": {},
   "outputs": [
    {
     "data": {
      "image/png": "[encoded data removed]",
      "text/plain": [
       "<Figure size 432x288 with 1 Axes>"
      ]
     },
     "metadata": {
      "needs_background": "light"
     },
     "output_type": "display_data"
    }
   ],
   "source": [
    "sns.boxplot(data = cardio, x = \"Age\");\n",
    "plt.title(\"Boxplot of the Age\")\n",
    "plt.xlabel(\"Age\")\n",
    "plt.ylabel(\"Frequency\")\n",
    "plt.xticks(rotation = 90)\n",
    "plt.show()"
   ]
  },
  {
   "cell_type": "markdown",
   "id": "65f87309",
   "metadata": {},
   "source": [
    "#  Boxplot of a numeric variable \"Age\"\n",
    "\n",
    "Insights;\n",
    "\n",
    "- The maximum age is 50 years and it is part of the outliers above the upper whisker\n",
    "- The upper whisker is slightly above 45years(around 46.5 years)\n",
    "- The median is 26 years while the customer with the least age is 18 years.\n",
    "- The lower whisker is at 18 years while the lower quartile is 24 years or less and this represent 25% of the customers' age.\n",
    "- The 75% percentile is at 33 years which implies 75% of the customers are aged 33 years or less. The remaining 25% are above \n",
    "33 years.\n",
    "- The average age is 28.8 years.\n",
    "- The distribution is skewed at the right hand.\n",
    "\n",
    "Recommendation:\n",
    "- All their customers are above 18 years and are all major. No minor in their customers.\n",
    "- 75% of their customers are active youths with ages between 18 and 33 years.\n",
    "- The average age and the median further buttress that majority of their customers are active youths.\n",
    "- Thay should tailor more products that are youth friendly (Like enjoying live football while on patronage).\n"
   ]
  },
  {
   "cell_type": "code",
   "execution_count": 25,
   "id": "a90e3982",
   "metadata": {},
   "outputs": [
    {
     "data": {
      "image/png": "[encoded data removed]",
      "text/plain": [
       "<Figure size 432x288 with 1 Axes>"
      ]
     },
     "metadata": {
      "needs_background": "light"
     },
     "output_type": "display_data"
    }
   ],
   "source": [
    "sns.histplot(data = cardio, x = \"MaritalStatus\");\n",
    "plt.title(\"Histogram Plot of the MaritalStatus\")\n",
    "plt.xlabel(\"MaritalStatus\")\n",
    "plt.ylabel(\"Frequency\")\n",
    "plt.show()"
   ]
  },
  {
   "cell_type": "markdown",
   "id": "24ffef53",
   "metadata": {},
   "source": [
    "# Histogram plot of a categorical variable \"MaritalStatus\"\n",
    "\n",
    "Insights:\n",
    "    \n",
    "- Their customers are either single or partnered\n",
    "- The customers with partners have the highest patronage(107)\n",
    "- They have 73 single customers.\n",
    "\n",
    "Recommendation;\n",
    "\n",
    "- More than 59% of their customers are couples.\n",
    "- Events that promote love should be introduced (like cinema) to promote retention and increase sales."
   ]
  },
  {
   "cell_type": "code",
   "execution_count": 27,
   "id": "ae32311c",
   "metadata": {},
   "outputs": [
    {
     "data": {
      "image/png": "[encoded data removed]",
      "text/plain": [
       "<Figure size 432x288 with 1 Axes>"
      ]
     },
     "metadata": {
      "needs_background": "light"
     },
     "output_type": "display_data"
    }
   ],
   "source": [
    "sns.histplot(data = cardio, x = \"Gender\");\n",
    "plt.title(\"Histogram Plot of the Gender\")\n",
    "plt.xlabel(\"Gender\")\n",
    "plt.ylabel(\"Frequency\")\n",
    "plt.show()"
   ]
  },
  {
   "cell_type": "markdown",
   "id": "ef309359",
   "metadata": {},
   "source": [
    "# Histogram plot of a categorical variable \"Gender\"\n",
    "- Their customers are either male or female\n",
    "- The male customers patronize them more(104)\n"
   ]
  },
  {
   "cell_type": "code",
   "execution_count": 29,
   "id": "b78629bc",
   "metadata": {},
   "outputs": [
    {
     "data": {
      "image/png": "[encoded data removed]",
      "text/plain": [
       "<Figure size 432x288 with 1 Axes>"
      ]
     },
     "metadata": {
      "needs_background": "light"
     },
     "output_type": "display_data"
    }
   ],
   "source": [
    "sns.boxplot(data = cardio, x = \"Education\");\n",
    "plt.title(\"Boxplot of the Education\")\n",
    "plt.xlabel(\"Education\")\n",
    "plt.ylabel(\"Frequency\")\n",
    "plt.show()"
   ]
  },
  {
   "cell_type": "markdown",
   "id": "a9148168",
   "metadata": {},
   "source": [
    "# Boxplot of a numeric variable \"Education\"\n",
    "\n",
    "Insights:\n",
    "    \n",
    "- The most educated customer has 21 years of education while the least educated has 12 years.\n",
    "- 25% of their customers have 14 years (or less) in education which represents the lower percentile. Others are educated.\n",
    "- 75% of their customers have 16 or less years in education and this forms the upper quartile. The remaining 25% are more \n",
    "educated.\n",
    "- The upper whisker is at 18 years of education while the lower whisker is at 12 years.\n",
    "- There are customers with more years of education above the upper whisker. They form the outliers.\n",
    "- The mean and median are very close which impies the distribution is normal.\n",
    "- The median and the 75% upper quartile are the same\n",
    "- The distribution is skewed at the right hand."
   ]
  },
  {
   "cell_type": "code",
   "execution_count": 33,
   "id": "73124dfa",
   "metadata": {},
   "outputs": [
    {
     "data": {
      "image/png": "[encoded data removed]",
      "text/plain": [
       "<Figure size 432x288 with 1 Axes>"
      ]
     },
     "metadata": {
      "needs_background": "light"
     },
     "output_type": "display_data"
    }
   ],
   "source": [
    "sns.boxplot(data = cardio, x = \"Usage\");\n",
    "plt.title(\"Boxplot of the Usage\")\n",
    "plt.xlabel(\"Usage\")\n",
    "plt.ylabel(\"Frequency\")\n",
    "plt.show()"
   ]
  },
  {
   "cell_type": "markdown",
   "id": "bc64b06b",
   "metadata": {},
   "source": [
    "#  Boxplot of a numerical variable \"Usage\"\n",
    "\n",
    "Insights:\n",
    "    \n",
    "- The customer with the highest patronage/usgage patronises them 7 times every week\n",
    "- The least patronized customer uses them 2 times per week\n",
    "- 75% of their customers patronize them 4 times per week or less. This is the upper quartile. Others patronize more.\n",
    "- 25% of their customers patronize 3 times every week or less. This is the lower quartile. Others use them more.\n",
    "- 50% of their customers patronize them 3 times every week.\n",
    "- The plot has perfect normal distribution; the average usage (mean) and the median are the same.\n",
    "- There are outliers above the upper wisker which implies that the distribution is skewed at the right hand\n",
    "- The lower whisker is at 2 usage while the upper whisker is at 5.\n"
   ]
  },
  {
   "cell_type": "code",
   "execution_count": 35,
   "id": "d4cc4917",
   "metadata": {},
   "outputs": [
    {
     "data": {
      "image/png": "[encoded data removed]",
      "text/plain": [
       "<Figure size 432x288 with 1 Axes>"
      ]
     },
     "metadata": {
      "needs_background": "light"
     },
     "output_type": "display_data"
    }
   ],
   "source": [
    "sns.boxplot(data = cardio, x = \"Fitness\");\n",
    "plt.title(\"Boxplot of the Fitness\")\n",
    "plt.xlabel(\"Fitness\")\n",
    "plt.ylabel(\"Frequency\")\n",
    "plt.show()"
   ]
  },
  {
   "cell_type": "markdown",
   "id": "9b082aaa",
   "metadata": {},
   "source": [
    "# Boxplot of a numerical variable \"Fitness\"\n",
    "\n",
    "Insights:\n",
    "    \n",
    "- The customer with the highest fitness score is 5 while the least is 1\n",
    "- 75% of their customers have fitness score of 4 or less. Others have more. This is the upper quartile.\n",
    "- 25% of their customers have fitness score of 3 or less. Others have more. This is the lower quartile.\n",
    "- The average fitness score and the median are the same. Hence the distribution is perfectly normal.\n",
    "- There is outlier below the lower whisker (fitness score of 2), hence the distribution is skewed at the left hand.\n",
    "- The upper whisker is at fitness score of 4 while the lower whisker is at 2."
   ]
  },
  {
   "cell_type": "code",
   "execution_count": 45,
   "id": "3bb3ee7f",
   "metadata": {},
   "outputs": [
    {
     "data": {
      "image/png": "[encoded data removed]",
      "text/plain": [
       "<Figure size 432x288 with 1 Axes>"
      ]
     },
     "metadata": {
      "needs_background": "light"
     },
     "output_type": "display_data"
    }
   ],
   "source": [
    "sns.boxplot(data = cardio, x = \"Income\");\n",
    "plt.title(\"Boxplot of the Income\")\n",
    "plt.xlabel(\"Income\")\n",
    "plt.ylabel(\"Frequency\")\n",
    "plt.show()"
   ]
  },
  {
   "cell_type": "markdown",
   "id": "86033b7f",
   "metadata": {},
   "source": [
    "# Boxplot of a numerical variable \"Income\"\n",
    "\n",
    "Insights:\n",
    "    \n",
    "- Their customer with the highest income earns 104,581 while the least income is 29,562.\n",
    "- The average income of their customers is 53,720 while 50,597 represents 50% of their income (Median).\n",
    "- 75% of their customers earn 58,668 or less. This is the 75% percentile. Others earn more.\n",
    "- 25% of them earn 44,059 or less. This is the 25% lower percentile. The remaining 75% earn more.\n",
    "- The lower whisker is at the minimum income of 29,562 while the upper whisker is sligtly below 80,000.\n",
    "- There are outliers above the upper whisker, hence the distribution is skewed at the right hand.\n"
   ]
  },
  {
   "cell_type": "code",
   "execution_count": 41,
   "id": "3ff05808",
   "metadata": {},
   "outputs": [
    {
     "data": {
      "image/png": "[encoded data removed]",
      "text/plain": [
       "<Figure size 432x288 with 1 Axes>"
      ]
     },
     "metadata": {
      "needs_background": "light"
     },
     "output_type": "display_data"
    }
   ],
   "source": [
    "sns.boxplot(data = cardio, x = \"Miles\");\n",
    "plt.title(\"Boxplot of the Miles\")\n",
    "plt.xlabel(\"Miles\")\n",
    "plt.ylabel(\"Frequency\")\n",
    "plt.show()"
   ]
  },
  {
   "cell_type": "markdown",
   "id": "3c6d6451",
   "metadata": {},
   "source": [
    "# Boxplot of the numerical variable \"Miles\"\n",
    "\n",
    "Insights:\n",
    "    \n",
    "- The customer with the highest miles covered 360 miles while the least covered 21 miles.\n",
    "- The average miles covered is 103.19 miles\n",
    "- 50% of their customers covered 94 miles.\n",
    "- 25% of them covered 66 miles. This represents the lower percentile. The rest covered more miles.\n",
    "- 75% of their customers covered 115 miles. This is the 75% percentile. The remaining 25% covered more miles.\n",
    "- The lower whisker is at 21 miles while the upper whisker is at 180 miles. \n",
    "- There are outliers above the upper whisker at the distribution is skewed the the right hand."
   ]
  },
  {
   "cell_type": "markdown",
   "id": "706e6e5b",
   "metadata": {},
   "source": [
    "#                                          CORRELATION MAP"
   ]
  },
  {
   "cell_type": "code",
   "execution_count": 7,
   "id": "55fc55b3",
   "metadata": {},
   "outputs": [
    {
     "data": {
      "text/html": [
       "<div>\n",
       "<style scoped>\n",
       "    .dataframe tbody tr th:only-of-type {\n",
       "        vertical-align: middle;\n",
       "    }\n",
       "\n",
       "    .dataframe tbody tr th {\n",
       "        vertical-align: top;\n",
       "    }\n",
       "\n",
       "    .dataframe thead th {\n",
       "        text-align: right;\n",
       "    }\n",
       "</style>\n",
       "<table border=\"1\" class=\"dataframe\">\n",
       "  <thead>\n",
       "    <tr style=\"text-align: right;\">\n",
       "      <th></th>\n",
       "      <th>Age</th>\n",
       "      <th>Education</th>\n",
       "      <th>Usage</th>\n",
       "      <th>Fitness</th>\n",
       "      <th>Income</th>\n",
       "      <th>Miles</th>\n",
       "    </tr>\n",
       "  </thead>\n",
       "  <tbody>\n",
       "    <tr>\n",
       "      <th>Age</th>\n",
       "      <td>1.000000</td>\n",
       "      <td>0.280496</td>\n",
       "      <td>0.015064</td>\n",
       "      <td>0.061105</td>\n",
       "      <td>0.513414</td>\n",
       "      <td>0.036618</td>\n",
       "    </tr>\n",
       "    <tr>\n",
       "      <th>Education</th>\n",
       "      <td>0.280496</td>\n",
       "      <td>1.000000</td>\n",
       "      <td>0.395155</td>\n",
       "      <td>0.410581</td>\n",
       "      <td>0.625827</td>\n",
       "      <td>0.307284</td>\n",
       "    </tr>\n",
       "    <tr>\n",
       "      <th>Usage</th>\n",
       "      <td>0.015064</td>\n",
       "      <td>0.395155</td>\n",
       "      <td>1.000000</td>\n",
       "      <td>0.668606</td>\n",
       "      <td>0.519537</td>\n",
       "      <td>0.759130</td>\n",
       "    </tr>\n",
       "    <tr>\n",
       "      <th>Fitness</th>\n",
       "      <td>0.061105</td>\n",
       "      <td>0.410581</td>\n",
       "      <td>0.668606</td>\n",
       "      <td>1.000000</td>\n",
       "      <td>0.535005</td>\n",
       "      <td>0.785702</td>\n",
       "    </tr>\n",
       "    <tr>\n",
       "      <th>Income</th>\n",
       "      <td>0.513414</td>\n",
       "      <td>0.625827</td>\n",
       "      <td>0.519537</td>\n",
       "      <td>0.535005</td>\n",
       "      <td>1.000000</td>\n",
       "      <td>0.543473</td>\n",
       "    </tr>\n",
       "    <tr>\n",
       "      <th>Miles</th>\n",
       "      <td>0.036618</td>\n",
       "      <td>0.307284</td>\n",
       "      <td>0.759130</td>\n",
       "      <td>0.785702</td>\n",
       "      <td>0.543473</td>\n",
       "      <td>1.000000</td>\n",
       "    </tr>\n",
       "  </tbody>\n",
       "</table>\n",
       "</div>"
      ],
      "text/plain": [
       "                Age  Education     Usage   Fitness    Income     Miles\n",
       "Age        1.000000   0.280496  0.015064  0.061105  0.513414  0.036618\n",
       "Education  0.280496   1.000000  0.395155  0.410581  0.625827  0.307284\n",
       "Usage      0.015064   0.395155  1.000000  0.668606  0.519537  0.759130\n",
       "Fitness    0.061105   0.410581  0.668606  1.000000  0.535005  0.785702\n",
       "Income     0.513414   0.625827  0.519537  0.535005  1.000000  0.543473\n",
       "Miles      0.036618   0.307284  0.759130  0.785702  0.543473  1.000000"
      ]
     },
     "execution_count": 7,
     "metadata": {},
     "output_type": "execute_result"
    }
   ],
   "source": [
    "cardiofitness = cardio.corr()\n",
    "cardiofitness                          # Calling our data, apply correlation method and save it in a new variable; cardiofitness"
   ]
  },
  {
   "cell_type": "code",
   "execution_count": 8,
   "id": "7b3be04d",
   "metadata": {},
   "outputs": [
    {
     "data": {
      "image/png": "[encoded data removed]",
      "text/plain": [
       "<Figure size 864x504 with 2 Axes>"
      ]
     },
     "metadata": {
      "needs_background": "light"
     },
     "output_type": "display_data"
    }
   ],
   "source": [
    "plt.figure(figsize=(12,7))\n",
    "sns.heatmap(data =cardiofitness, annot= True, vmin= -1, vmax=1, cmap= \"Spectral\");\n",
    "plt.title(\"Correlation Plot\")\n",
    "plt.show()                                                      # Heatmap to show relationships among the variables"
   ]
  },
  {
   "cell_type": "markdown",
   "id": "69e08e66",
   "metadata": {},
   "source": [
    "#  Insights from the correlation map\n",
    "- The miles and the fitness score are positively correlated at 0.79 (Twice).\n",
    "- The miles and the usage are positively correlated at 0.76         (Twice).\n",
    "- The income and the usage are positively correlated at 0.52        (Twice).\n",
    "- The fitness score and the usage are positively corrected at 0.67  (Twice).\n",
    "- The income and education are positively corrected at 0.63         (Twice).\n",
    "- The income and fitness share positive correlation at 0.54         (Twice).\n",
    "- The income and miles share positive correlation at 0.54\n",
    "- Age and miles are positively correlated at 0.51.\n",
    "  \n",
    "Recommendation\n",
    "\n",
    "- Since there is no highly positive correction in the dataset, all variables will be adopted.\n",
    "\n",
    "Conclusion:\n",
    "- Since all these variables have positive correlation with the product, increase per unit of any of these variables will increase the sales of the product and vice-versa."
   ]
  },
  {
   "cell_type": "markdown",
   "id": "ba3b4d5c",
   "metadata": {},
   "source": [
    " #                                   BIVARIATE PLOTS"
   ]
  },
  {
   "cell_type": "code",
   "execution_count": 56,
   "id": "355e5c48",
   "metadata": {},
   "outputs": [
    {
     "data": {
      "image/png": "[encoded data removed]",
      "text/plain": [
       "<Figure size 360x360 with 1 Axes>"
      ]
     },
     "metadata": {
      "needs_background": "light"
     },
     "output_type": "display_data"
    }
   ],
   "source": [
    "sns.catplot(data = cardio, x =\"Product\", y = \"Income\", kind = \"box\" );\n",
    "plt.title(\"Categorical Plot of Numerical and Categorical Variables\")\n",
    "plt.xlabel(\"Product\")\n",
    "plt.ylabel(\"Income\")\n",
    "plt.show()"
   ]
  },
  {
   "cell_type": "markdown",
   "id": "8683c173",
   "metadata": {},
   "source": [
    "# Categorical plot of a numerical and a categorical variable\n",
    "\n",
    "Insights:\n",
    "    \n",
    "- Majority of the highest income earners buy TM798 product.\n",
    "- TM195 has the least income earner.\n",
    "- The 50% (median) income of product TM498 equals the least income of the customers of product TM798.\n"
   ]
  },
  {
   "cell_type": "code",
   "execution_count": 57,
   "id": "325eaac3",
   "metadata": {},
   "outputs": [
    {
     "data": {
      "image/png": "[encoded data removed]",
      "text/plain": [
       "<Figure size 432x288 with 1 Axes>"
      ]
     },
     "metadata": {
      "needs_background": "light"
     },
     "output_type": "display_data"
    }
   ],
   "source": [
    "sns.scatterplot(data= cardio, x =\"Income\", y = \"Education\", hue =\"Product\");\n",
    "plt.title(\"Scatter Plot of 2 Numerical Variables & One Categorical Variable\")\n",
    "plt.xlabel(\"Income\")\n",
    "plt.ylabel(\"Education\")\n",
    "plt.show()"
   ]
  },
  {
   "cell_type": "markdown",
   "id": "6d2c76e2",
   "metadata": {},
   "source": [
    " # Scatter plot of two numerical variables and a categorical variable\n",
    " \n",
    "Insights:\n",
    "\n",
    "- The highest income earner is 18 years\n",
    "- The highest income earners and the most educated customers buy TM798 product\n",
    "- The least educated customer buys TM498 and TM195 products\n",
    "- The customer with the least income buys TM195 and has 14 years of education.\n",
    "- Majority of the highest income earners buy TM798 product.\n",
    "- The highest year of education of both TM498 and TM195 products buyers is 18 years.\n",
    "- No buyer of both TM498 and TM195 products earns more than 70,000 income.\n",
    "\n",
    "Conclusions:\n",
    "- Since TM798 product has the least patronage, the product maybe too expensive for the low and middle income earners to afford. \n",
    "- The product maybe deemed as special product for the elite since majority of the most educated and higher income earners buy it."
   ]
  },
  {
   "cell_type": "code",
   "execution_count": 62,
   "id": "750dd80b",
   "metadata": {},
   "outputs": [
    {
     "data": {
      "image/png": "[encoded data removed]",
      "text/plain": [
       "<Figure size 432x288 with 1 Axes>"
      ]
     },
     "metadata": {
      "needs_background": "light"
     },
     "output_type": "display_data"
    }
   ],
   "source": [
    "sns.scatterplot(data= cardio, x =\"Usage\", y = \"Age\", hue =\"Gender\");\n",
    "plt.title(\"Scatter Plot of 2 Numerical Variables & One Categorical Variable\")\n",
    "plt.xlabel(\"Usage\")\n",
    "plt.ylabel(\"Age\")\n",
    "plt.show()"
   ]
  },
  {
   "cell_type": "markdown",
   "id": "bd92dbcd",
   "metadata": {},
   "source": [
    "# Scatter plot of two numerical variables and a categorical variable\n",
    "\n",
    "Insights:\n",
    "\n",
    "- The male customers have the higest usage per week.\n",
    "- The female customer is the oldest.\n",
    "- Only one female customer patronize them 6 times per week. Others have less patronages."
   ]
  },
  {
   "cell_type": "code",
   "execution_count": 60,
   "id": "95780f71",
   "metadata": {},
   "outputs": [
    {
     "data": {
      "image/png": "[encoded data removed]",
      "text/plain": [
       "<Figure size 432x288 with 1 Axes>"
      ]
     },
     "metadata": {
      "needs_background": "light"
     },
     "output_type": "display_data"
    }
   ],
   "source": [
    "sns.scatterplot(data= cardio, x =\"Fitness\", y = \"Miles\", hue =\"MaritalStatus\");\n",
    "plt.title(\"Scatter Plot of 2 Numerical Variables & One Categorical Variable\")\n",
    "plt.xlabel(\"Fitness\")\n",
    "plt.ylabel(\"Miles\")\n",
    "plt.show()"
   ]
  },
  {
   "cell_type": "markdown",
   "id": "0ab1a518",
   "metadata": {},
   "source": [
    " # Scatter plot of two numerical variables and a categorical variable\n",
    "\n",
    "Insights;\n",
    "\n",
    "- The single customer has the lowest fitness score and covers the least milles\n",
    "- The partnered customer has the highest fitness score and covers the longest miles.\n",
    "- There are more partered customers with highest fitness score (5).\n",
    "- They both have customers with the least fitness score (1).\n",
    "- The partnered customer with the least fitness score (1) still covers more miles than the single customer with the least fitness score (1)"
   ]
  },
  {
   "cell_type": "code",
   "execution_count": 66,
   "id": "2b343165",
   "metadata": {},
   "outputs": [
    {
     "data": {
      "image/png": "[encoded data removed]",
      "text/plain": [
       "<Figure size 432x288 with 1 Axes>"
      ]
     },
     "metadata": {
      "needs_background": "light"
     },
     "output_type": "display_data"
    }
   ],
   "source": [
    "sns.countplot(data = cardio, x = \"Product\", hue= \"Gender\");\n",
    "plt.title(\"Countplot of the Fitness\")\n",
    "plt.xlabel(\"Product\")\n",
    "plt.ylabel(\"Gender\")\n",
    "plt.show()"
   ]
  },
  {
   "cell_type": "markdown",
   "id": "64361db3",
   "metadata": {},
   "source": [
    "# Countplot of two categorical variables \"Product\" and \"Gender\"\n",
    "\n",
    "Insights:\n",
    "\n",
    "- Both male and female customers buy TM195 products equally\n",
    "- The male customers buy TM798 product more than the female customers.\n",
    "- For all the products, the male customers patronize them more.\n",
    "- Majority of the female customers do not prefer product TM798. Only few of them do."
   ]
  },
  {
   "cell_type": "code",
   "execution_count": 73,
   "id": "71caebce",
   "metadata": {},
   "outputs": [
    {
     "data": {
      "image/png": "[encoded data removed]",
      "text/plain": [
       "<Figure size 432x288 with 1 Axes>"
      ]
     },
     "metadata": {
      "needs_background": "light"
     },
     "output_type": "display_data"
    }
   ],
   "source": [
    "sns.countplot(data = cardio, x = \"Product\", hue= \"MaritalStatus\");\n",
    "plt.title(\"countplot of the Fitness\")\n",
    "plt.xlabel(\"Product\")\n",
    "plt.ylabel(\"MaritalStatus\")\n",
    "plt.show()"
   ]
  },
  {
   "cell_type": "markdown",
   "id": "9d0bc8bd",
   "metadata": {},
   "source": [
    "# Countplot of two categorical variables \"Product\" and \"MaritalStatus\"\n",
    "\n",
    "Insights:\n",
    "\n",
    "- Both the single and the partnered customers buy more of TM195 than other products\n",
    "- TM798 is least preferred by both the single and the partnered customers.\n",
    "- For all the products, the customers with partners patronize them more."
   ]
  },
  {
   "cell_type": "markdown",
   "id": "9d783a5f",
   "metadata": {},
   "source": [
    "# General Recommendations\n",
    "- TM195 has the highest patronage. More investment is recommended for this product. Promotion should also be run to attract new\n",
    "customers and reward the customers with highest patronages.\n",
    "- TM798 is being regarded as elite product as its major buyers are the highest income earners and customers with several years\n",
    "of education. It has the lowest patronage. This could mean that it is expensive and only the high income earners can\n",
    "afford it. The Customer referral promotion should be run to attract more high income earners to increase sales per unit while\n",
    "the existing customers/buyers should also be rewarded for referral and patronage.\n",
    "- TM498 is both preferred by both male and female customers but more preferred by the partnered customers. This could mean that\n",
    "it has tendency to ignite love. This product should be promoted more on valentine days and days when love is being celebrated to capture more couples and increase sales. More investment is also required as it is the second best product in terms of sales per unit.\n",
    "- All products seem to be loved more by the partnered customers. The partnered customers have the highest fitness score and cover more miles when running. This could mean that these products help boost their exercise-abilities.\n",
    "- The three (3) products do not promote abuse. No minor among their customers.\n",
    "- All their customers are youths. The oldest is 50 years and the youngest is 18 years. More awareness should be done to capture\n",
    "more youths to boost sales. Events that promote in-gatjering of youths (like live sport) should be inculcated.\n",
    "- All their customers are very educated. Promotion that encourges education should be run to attract more educated people."
   ]
  },
  {
   "cell_type": "code",
   "execution_count": null,
   "id": "df79e12c",
   "metadata": {},
   "outputs": [],
   "source": []
  }
 ],
 "metadata": {
  "kernelspec": {
   "display_name": "Python 3 (ipykernel)",
   "language": "python",
   "name": "python3"
  },
  "language_info": {
   "codemirror_mode": {
    "name": "ipython",
    "version": 3
   },
   "file_extension": ".py",
   "mimetype": "text/x-python",
   "name": "python",
   "nbconvert_exporter": "python",
   "pygments_lexer": "ipython3",
   "version": "3.9.12"
  }
 },
 "nbformat": 4,
 "nbformat_minor": 5
}
